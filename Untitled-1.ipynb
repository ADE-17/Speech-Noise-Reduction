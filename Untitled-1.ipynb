{
 "cells": [
  {
   "cell_type": "code",
   "execution_count": 38,
   "metadata": {},
   "outputs": [],
   "source": [
    "import numpy as np\n",
    "import sounddevice as sd  # for audio input/output\n",
    "from scipy.io.wavfile import write  # for saving audio to file\n",
    "import pickle\n",
    "# from rls_filter import RLSFilter\n",
    "import numpy as np\n",
    "import soundfile as sf\n",
    "import os\n",
    "import matplotlib.pyplot as plt\n",
    "import numpy as np\n",
    "import tkinter as tk"
   ]
  },
  {
   "cell_type": "code",
   "execution_count": 35,
   "metadata": {},
   "outputs": [],
   "source": [
    "class RLSFilter:\n",
    "    def __init__(self, filter_order=4, delta=1.0, lambda_=0.99):\n",
    "        self.filter_order = filter_order\n",
    "        self.delta = delta\n",
    "        self.lambda_ = lambda_\n",
    "        self.weights = np.zeros(filter_order)\n",
    "        self.P = np.eye(filter_order) / delta\n",
    "\n",
    "    def train(self, noisy_signal, clean_signal):\n",
    "        n = len(noisy_signal)\n",
    "        output_signal = np.zeros(n)\n",
    "        error_signal = np.zeros(n)\n",
    "\n",
    "        for i in range(self.filter_order, n):\n",
    "            x = noisy_signal[i-self.filter_order:i][::-1]  \n",
    "            d = clean_signal[i] \n",
    "            \n",
    "            y = np.dot(self.weights, x)  \n",
    "            e = d - y  \n",
    "\n",
    "            Pi = np.dot(self.P, x)\n",
    "            k = Pi / (self.lambda_ + np.dot(x.T, Pi))\n",
    "            \n",
    "            self.P = (self.P - np.outer(k, np.dot(x.T, self.P))) / self.lambda_\n",
    "            self.weights += k * e\n",
    "\n",
    "            output_signal[i] = y\n",
    "            error_signal[i] = e\n",
    "        \n",
    "        return output_signal, error_signal\n",
    "\n",
    "    def train_batch(self, noisy_signals, clean_signals):\n",
    "        for noisy_signal, clean_signal in zip(noisy_signals, clean_signals):\n",
    "            self.train(noisy_signal, clean_signal)\n",
    "    \n",
    "    def apply(self, noisy_signal):\n",
    "        n = len(noisy_signal)\n",
    "        filtered_signal = np.zeros(n)\n",
    "\n",
    "        for i in range(self.filter_order, n):\n",
    "            x = noisy_signal[i-self.filter_order:i][::-1]  \n",
    "            filtered_signal[i] = np.dot(self.weights, x)  \n",
    "        \n",
    "        return filtered_signal\n",
    "\n",
    "    def save_model(self, file_path):\n",
    "        with open(file_path, 'wb') as file:\n",
    "            pickle.dump(self, file)\n",
    "\n",
    "    @staticmethod\n",
    "    def load_model(file_path):\n",
    "        with open(file_path, 'rb') as file:\n",
    "            return pickle.load(file)\n"
   ]
  },
  {
   "cell_type": "code",
   "execution_count": 36,
   "metadata": {},
   "outputs": [],
   "source": [
    "clean_path = r\"C:\\Users\\ADE17\\Desktop\\Kickelhack\\notebook\\data\\clean\"\n",
    "noisy_path = r\"C:\\Users\\ADE17\\Desktop\\Kickelhack\\notebook\\data\\noisy\"\n",
    "def listdir_fullpath(d):\n",
    "    return [os.path.join(d, f) for f in os.listdir(d)]\n",
    "clean_train = listdir_fullpath(clean_path)\n",
    "noisy_train = listdir_fullpath(noisy_path)"
   ]
  },
  {
   "cell_type": "code",
   "execution_count": 37,
   "metadata": {},
   "outputs": [],
   "source": [
    "noisy_files = noisy_train\n",
    "clean_files = clean_train\n",
    "noisy_signals = [sf.read(file)[0] for file in noisy_files]\n",
    "clean_signals = [sf.read(file)[0] for file in clean_files]"
   ]
  },
  {
   "cell_type": "code",
   "execution_count": 35,
   "metadata": {},
   "outputs": [],
   "source": [
    "rls_filter = RLSFilter(filter_order=1200, delta=1, lambda_=0.99)\n",
    "rls_filter.train_batch(noisy_signals, clean_signals)"
   ]
  },
  {
   "cell_type": "code",
   "execution_count": 6,
   "metadata": {},
   "outputs": [
    {
     "data": {
      "image/png": "[encoded data removed]",
      "text/plain": [
       "<Figure size 720x432 with 2 Axes>"
      ]
     },
     "metadata": {
      "needs_background": "light"
     },
     "output_type": "display_data"
    }
   ],
   "source": [
    "class NoiseCancellationApp:\n",
    "    def __init__(self, master):\n",
    "        self.master = master\n",
    "        master.title(\"Active Noise Cancellation\")\n",
    "\n",
    "        self.record_button = tk.Button(master, text=\"Start Recording\", command=self.start_recording)\n",
    "        self.record_button.pack()\n",
    "\n",
    "        self.stop_button = tk.Button(master, text=\"Stop\", command=self.stop_recording, state=tk.DISABLED)\n",
    "        self.stop_button.pack()\n",
    "\n",
    "        self.status_label = tk.Label(master, text=\"\")\n",
    "        self.status_label.pack()\n",
    "\n",
    "        self.filter_order = 4\n",
    "        self.delta = 1.0\n",
    "        self.lambda_ = 0.99\n",
    "        self.rls_filter = RLSFilter(filter_order=self.filter_order, delta=self.delta, lambda_=self.lambda_)\n",
    "        self.fs = 44100\n",
    "        self.recording = False\n",
    "\n",
    "        self.fig, self.ax = plt.subplots(2, 1, figsize=(10, 6))\n",
    "\n",
    "    def start_recording(self):\n",
    "        self.recording = True\n",
    "        self.record_button.config(state=tk.DISABLED)\n",
    "        self.stop_button.config(state=tk.NORMAL)\n",
    "        self.status_label.config(text=\"Recording with active noise cancellation. Press Stop to finish.\")\n",
    "        self.stream = sd.InputStream(callback=self.process_audio_chunk, samplerate=self.fs)\n",
    "        self.stream.start()\n",
    "\n",
    "    def stop_recording(self):\n",
    "        self.recording = False\n",
    "        self.stream.stop()\n",
    "        self.stream.close()\n",
    "        self.record_button.config(state=tk.NORMAL)\n",
    "        self.stop_button.config(state=tk.DISABLED)\n",
    "        self.status_label.config(text=\"Recording stopped.\")\n",
    "\n",
    "    def process_audio_chunk(self, indata, frames, time, status):\n",
    "        if self.recording:\n",
    "            noisy_signal = np.array(indata[:, 0])  # Assuming mono audio input\n",
    "            clean_signal = self.rls_filter.apply(noisy_signal)\n",
    "\n",
    "            # Plotting\n",
    "            self.ax[0].cla()\n",
    "            self.ax[0].plot(noisy_signal, color='red', label='Noisy Signal')\n",
    "            self.ax[0].legend()\n",
    "            self.ax[0].set_title('Noisy Signal')\n",
    "\n",
    "            self.ax[1].cla()\n",
    "            self.ax[1].plot(clean_signal, color='blue', label='Clean Signal')\n",
    "            self.ax[1].legend()\n",
    "            self.ax[1].set_title('Clean Signal')\n",
    "\n",
    "            self.fig.canvas.draw()\n",
    "            self.fig.canvas.flush_events()\n",
    "\n",
    "            # Save the clean audio file\n",
    "            sf.write(\"clean_audio.wav\", clean_signal, self.fs, format='WAV', subtype='PCM_16')\n",
    "\n",
    "def main():\n",
    "    root = tk.Tk()\n",
    "    app = NoiseCancellationApp(root)\n",
    "    root.mainloop()\n",
    "\n",
    "if __name__ == \"__main__\":\n",
    "    main()"
   ]
  },
  {
   "cell_type": "code",
   "execution_count": 41,
   "metadata": {},
   "outputs": [
    {
     "name": "stdout",
     "output_type": "stream",
     "text": [
      "Recording started...\n",
      "Recording finished.\n"
     ]
    }
   ],
   "source": [
    "duration = 10  \n",
    "sample_rate = 16000\n",
    "\n",
    "def record_audio(duration, sample_rate):\n",
    "    print(\"Recording started...\")\n",
    "    audio_data = sd.rec(int(duration * sample_rate), samplerate=sample_rate, channels=1, dtype='float64')\n",
    "    sd.wait()  \n",
    "    print(\"Recording finished.\")\n",
    "    return audio_data\n",
    "\n",
    "audio_array = record_audio(duration, sample_rate)"
   ]
  },
  {
   "cell_type": "code",
   "execution_count": 51,
   "metadata": {},
   "outputs": [
    {
     "data": {
      "text/plain": [
       "[<matplotlib.lines.Line2D at 0x22369488670>]"
      ]
     },
     "execution_count": 51,
     "metadata": {},
     "output_type": "execute_result"
    },
    {
     "data": {
      "image/png": "[encoded data removed]",
      "text/plain": [
       "<Figure size 432x288 with 1 Axes>"
      ]
     },
     "metadata": {
      "needs_background": "light"
     },
     "output_type": "display_data"
    }
   ],
   "source": [
    "plt.plot(audio_array)"
   ]
  },
  {
   "cell_type": "code",
   "execution_count": 43,
   "metadata": {},
   "outputs": [],
   "source": [
    "pred_audio = rls_filter.apply(audio_array)"
   ]
  },
  {
   "cell_type": "code",
   "execution_count": 44,
   "metadata": {},
   "outputs": [
    {
     "data": {
      "text/plain": [
       "[<matplotlib.lines.Line2D at 0x2236885ec10>]"
      ]
     },
     "execution_count": 44,
     "metadata": {},
     "output_type": "execute_result"
    },
    {
     "data": {
      "image/png": "[encoded data removed]",
      "text/plain": [
       "<Figure size 432x288 with 1 Axes>"
      ]
     },
     "metadata": {
      "needs_background": "light"
     },
     "output_type": "display_data"
    }
   ],
   "source": [
    "plt.plot(pred_audio)"
   ]
  },
  {
   "cell_type": "code",
   "execution_count": 56,
   "metadata": {},
   "outputs": [],
   "source": [
    "sf.write(r\"pred.wav\", pred_audio, 16000)\n",
    "# sf.write(r\"C:\\Users\\ADE17\\Desktop\\Kickelhack\\notebook\\data\\test_1\\recorded.wav\", audio_array, 16000)"
   ]
  },
  {
   "cell_type": "code",
   "execution_count": 39,
   "metadata": {},
   "outputs": [],
   "source": [
    "from algorithms import RLSFilter"
   ]
  },
  {
   "cell_type": "code",
   "execution_count": 40,
   "metadata": {},
   "outputs": [],
   "source": [
    "rls_model = RLSFilter.load_model(r'C:\\Users\\ADE17\\Desktop\\Kickelhack\\notebook\\rls_1200.pkl')"
   ]
  },
  {
   "cell_type": "code",
   "execution_count": 58,
   "metadata": {},
   "outputs": [
    {
     "name": "stdout",
     "output_type": "stream",
     "text": [
      "CPU times: total: 844 ms\n",
      "Wall time: 929 ms\n"
     ]
    }
   ],
   "source": [
    "%%time\n",
    "pred_audio = rls_model.apply(audio_array)"
   ]
  },
  {
   "cell_type": "code",
   "execution_count": 50,
   "metadata": {},
   "outputs": [
    {
     "data": {
      "text/plain": [
       "<memory at 0x00000223688C8AD0>"
      ]
     },
     "execution_count": 50,
     "metadata": {},
     "output_type": "execute_result"
    }
   ],
   "source": [
    "audio_array.data"
   ]
  },
  {
   "cell_type": "code",
   "execution_count": 54,
   "metadata": {},
   "outputs": [
    {
     "ename": "error",
     "evalue": "ushort format requires 0 <= number <= 0xffff",
     "output_type": "error",
     "traceback": [
      "\u001b[1;31m---------------------------------------------------------------------------\u001b[0m",
      "\u001b[1;31merror\u001b[0m                                     Traceback (most recent call last)",
      "Cell \u001b[1;32mIn[54], line 3\u001b[0m\n\u001b[0;32m      1\u001b[0m \u001b[38;5;28;01mfrom\u001b[39;00m \u001b[38;5;21;01mIPython\u001b[39;00m \u001b[38;5;28;01mimport\u001b[39;00m display \u001b[38;5;28;01mas\u001b[39;00m disp\n\u001b[1;32m----> 3\u001b[0m disp\u001b[38;5;241m.\u001b[39mdisplay(\u001b[43mdisp\u001b[49m\u001b[38;5;241;43m.\u001b[39;49m\u001b[43mAudio\u001b[49m\u001b[43m(\u001b[49m\u001b[43maudio_array\u001b[49m\u001b[43m,\u001b[49m\u001b[43m \u001b[49m\u001b[43mrate\u001b[49m\u001b[38;5;241;43m=\u001b[39;49m\u001b[43msample_rate\u001b[49m\u001b[43m)\u001b[49m)\n\u001b[0;32m      4\u001b[0m disp\u001b[38;5;241m.\u001b[39mdisplay(disp\u001b[38;5;241m.\u001b[39mAudio(pred_audio, rate\u001b[38;5;241m=\u001b[39msample_rate))\n",
      "File \u001b[1;32mc:\\Users\\ADE17\\anaconda3\\anaconda2\\lib\\site-packages\\IPython\\lib\\display.py:130\u001b[0m, in \u001b[0;36mAudio.__init__\u001b[1;34m(self, data, filename, url, embed, rate, autoplay, normalize, element_id)\u001b[0m\n\u001b[0;32m    128\u001b[0m \u001b[38;5;28;01mif\u001b[39;00m rate \u001b[38;5;129;01mis\u001b[39;00m \u001b[38;5;28;01mNone\u001b[39;00m:\n\u001b[0;32m    129\u001b[0m     \u001b[38;5;28;01mraise\u001b[39;00m \u001b[38;5;167;01mValueError\u001b[39;00m(\u001b[38;5;124m\"\u001b[39m\u001b[38;5;124mrate must be specified when data is a numpy array or list of audio samples.\u001b[39m\u001b[38;5;124m\"\u001b[39m)\n\u001b[1;32m--> 130\u001b[0m \u001b[38;5;28mself\u001b[39m\u001b[38;5;241m.\u001b[39mdata \u001b[38;5;241m=\u001b[39m \u001b[43mAudio\u001b[49m\u001b[38;5;241;43m.\u001b[39;49m\u001b[43m_make_wav\u001b[49m\u001b[43m(\u001b[49m\u001b[43mdata\u001b[49m\u001b[43m,\u001b[49m\u001b[43m \u001b[49m\u001b[43mrate\u001b[49m\u001b[43m,\u001b[49m\u001b[43m \u001b[49m\u001b[43mnormalize\u001b[49m\u001b[43m)\u001b[49m\n",
      "File \u001b[1;32mc:\\Users\\ADE17\\anaconda3\\anaconda2\\lib\\site-packages\\IPython\\lib\\display.py:162\u001b[0m, in \u001b[0;36mAudio._make_wav\u001b[1;34m(data, rate, normalize)\u001b[0m\n\u001b[0;32m    160\u001b[0m waveobj\u001b[38;5;241m.\u001b[39msetsampwidth(\u001b[38;5;241m2\u001b[39m)\n\u001b[0;32m    161\u001b[0m waveobj\u001b[38;5;241m.\u001b[39msetcomptype(\u001b[38;5;124m'\u001b[39m\u001b[38;5;124mNONE\u001b[39m\u001b[38;5;124m'\u001b[39m,\u001b[38;5;124m'\u001b[39m\u001b[38;5;124mNONE\u001b[39m\u001b[38;5;124m'\u001b[39m)\n\u001b[1;32m--> 162\u001b[0m \u001b[43mwaveobj\u001b[49m\u001b[38;5;241;43m.\u001b[39;49m\u001b[43mwriteframes\u001b[49m\u001b[43m(\u001b[49m\u001b[43mscaled\u001b[49m\u001b[43m)\u001b[49m\n\u001b[0;32m    163\u001b[0m val \u001b[38;5;241m=\u001b[39m fp\u001b[38;5;241m.\u001b[39mgetvalue()\n\u001b[0;32m    164\u001b[0m waveobj\u001b[38;5;241m.\u001b[39mclose()\n",
      "File \u001b[1;32mc:\\Users\\ADE17\\anaconda3\\anaconda2\\lib\\wave.py:437\u001b[0m, in \u001b[0;36mWave_write.writeframes\u001b[1;34m(self, data)\u001b[0m\n\u001b[0;32m    436\u001b[0m \u001b[38;5;28;01mdef\u001b[39;00m \u001b[38;5;21mwriteframes\u001b[39m(\u001b[38;5;28mself\u001b[39m, data):\n\u001b[1;32m--> 437\u001b[0m     \u001b[38;5;28;43mself\u001b[39;49m\u001b[38;5;241;43m.\u001b[39;49m\u001b[43mwriteframesraw\u001b[49m\u001b[43m(\u001b[49m\u001b[43mdata\u001b[49m\u001b[43m)\u001b[49m\n\u001b[0;32m    438\u001b[0m     \u001b[38;5;28;01mif\u001b[39;00m \u001b[38;5;28mself\u001b[39m\u001b[38;5;241m.\u001b[39m_datalength \u001b[38;5;241m!=\u001b[39m \u001b[38;5;28mself\u001b[39m\u001b[38;5;241m.\u001b[39m_datawritten:\n\u001b[0;32m    439\u001b[0m         \u001b[38;5;28mself\u001b[39m\u001b[38;5;241m.\u001b[39m_patchheader()\n",
      "File \u001b[1;32mc:\\Users\\ADE17\\anaconda3\\anaconda2\\lib\\wave.py:426\u001b[0m, in \u001b[0;36mWave_write.writeframesraw\u001b[1;34m(self, data)\u001b[0m\n\u001b[0;32m    424\u001b[0m \u001b[38;5;28;01mif\u001b[39;00m \u001b[38;5;129;01mnot\u001b[39;00m \u001b[38;5;28misinstance\u001b[39m(data, (\u001b[38;5;28mbytes\u001b[39m, \u001b[38;5;28mbytearray\u001b[39m)):\n\u001b[0;32m    425\u001b[0m     data \u001b[38;5;241m=\u001b[39m \u001b[38;5;28mmemoryview\u001b[39m(data)\u001b[38;5;241m.\u001b[39mcast(\u001b[38;5;124m'\u001b[39m\u001b[38;5;124mB\u001b[39m\u001b[38;5;124m'\u001b[39m)\n\u001b[1;32m--> 426\u001b[0m \u001b[38;5;28;43mself\u001b[39;49m\u001b[38;5;241;43m.\u001b[39;49m\u001b[43m_ensure_header_written\u001b[49m\u001b[43m(\u001b[49m\u001b[38;5;28;43mlen\u001b[39;49m\u001b[43m(\u001b[49m\u001b[43mdata\u001b[49m\u001b[43m)\u001b[49m\u001b[43m)\u001b[49m\n\u001b[0;32m    427\u001b[0m nframes \u001b[38;5;241m=\u001b[39m \u001b[38;5;28mlen\u001b[39m(data) \u001b[38;5;241m/\u001b[39m\u001b[38;5;241m/\u001b[39m (\u001b[38;5;28mself\u001b[39m\u001b[38;5;241m.\u001b[39m_sampwidth \u001b[38;5;241m*\u001b[39m \u001b[38;5;28mself\u001b[39m\u001b[38;5;241m.\u001b[39m_nchannels)\n\u001b[0;32m    428\u001b[0m \u001b[38;5;28;01mif\u001b[39;00m \u001b[38;5;28mself\u001b[39m\u001b[38;5;241m.\u001b[39m_convert:\n",
      "File \u001b[1;32mc:\\Users\\ADE17\\anaconda3\\anaconda2\\lib\\wave.py:467\u001b[0m, in \u001b[0;36mWave_write._ensure_header_written\u001b[1;34m(self, datasize)\u001b[0m\n\u001b[0;32m    465\u001b[0m \u001b[38;5;28;01mif\u001b[39;00m \u001b[38;5;129;01mnot\u001b[39;00m \u001b[38;5;28mself\u001b[39m\u001b[38;5;241m.\u001b[39m_framerate:\n\u001b[0;32m    466\u001b[0m     \u001b[38;5;28;01mraise\u001b[39;00m Error(\u001b[38;5;124m'\u001b[39m\u001b[38;5;124msampling rate not specified\u001b[39m\u001b[38;5;124m'\u001b[39m)\n\u001b[1;32m--> 467\u001b[0m \u001b[38;5;28;43mself\u001b[39;49m\u001b[38;5;241;43m.\u001b[39;49m\u001b[43m_write_header\u001b[49m\u001b[43m(\u001b[49m\u001b[43mdatasize\u001b[49m\u001b[43m)\u001b[49m\n",
      "File \u001b[1;32mc:\\Users\\ADE17\\anaconda3\\anaconda2\\lib\\wave.py:479\u001b[0m, in \u001b[0;36mWave_write._write_header\u001b[1;34m(self, initlength)\u001b[0m\n\u001b[0;32m    477\u001b[0m \u001b[38;5;28;01mexcept\u001b[39;00m (\u001b[38;5;167;01mAttributeError\u001b[39;00m, \u001b[38;5;167;01mOSError\u001b[39;00m):\n\u001b[0;32m    478\u001b[0m     \u001b[38;5;28mself\u001b[39m\u001b[38;5;241m.\u001b[39m_form_length_pos \u001b[38;5;241m=\u001b[39m \u001b[38;5;28;01mNone\u001b[39;00m\n\u001b[1;32m--> 479\u001b[0m \u001b[38;5;28mself\u001b[39m\u001b[38;5;241m.\u001b[39m_file\u001b[38;5;241m.\u001b[39mwrite(\u001b[43mstruct\u001b[49m\u001b[38;5;241;43m.\u001b[39;49m\u001b[43mpack\u001b[49m\u001b[43m(\u001b[49m\u001b[38;5;124;43m'\u001b[39;49m\u001b[38;5;124;43m<L4s4sLHHLLHH4s\u001b[39;49m\u001b[38;5;124;43m'\u001b[39;49m\u001b[43m,\u001b[49m\n\u001b[0;32m    480\u001b[0m \u001b[43m    \u001b[49m\u001b[38;5;241;43m36\u001b[39;49m\u001b[43m \u001b[49m\u001b[38;5;241;43m+\u001b[39;49m\u001b[43m \u001b[49m\u001b[38;5;28;43mself\u001b[39;49m\u001b[38;5;241;43m.\u001b[39;49m\u001b[43m_datalength\u001b[49m\u001b[43m,\u001b[49m\u001b[43m \u001b[49m\u001b[38;5;124;43mb\u001b[39;49m\u001b[38;5;124;43m'\u001b[39;49m\u001b[38;5;124;43mWAVE\u001b[39;49m\u001b[38;5;124;43m'\u001b[39;49m\u001b[43m,\u001b[49m\u001b[43m \u001b[49m\u001b[38;5;124;43mb\u001b[39;49m\u001b[38;5;124;43m'\u001b[39;49m\u001b[38;5;124;43mfmt \u001b[39;49m\u001b[38;5;124;43m'\u001b[39;49m\u001b[43m,\u001b[49m\u001b[43m \u001b[49m\u001b[38;5;241;43m16\u001b[39;49m\u001b[43m,\u001b[49m\n\u001b[0;32m    481\u001b[0m \u001b[43m    \u001b[49m\u001b[43mWAVE_FORMAT_PCM\u001b[49m\u001b[43m,\u001b[49m\u001b[43m \u001b[49m\u001b[38;5;28;43mself\u001b[39;49m\u001b[38;5;241;43m.\u001b[39;49m\u001b[43m_nchannels\u001b[49m\u001b[43m,\u001b[49m\u001b[43m \u001b[49m\u001b[38;5;28;43mself\u001b[39;49m\u001b[38;5;241;43m.\u001b[39;49m\u001b[43m_framerate\u001b[49m\u001b[43m,\u001b[49m\n\u001b[0;32m    482\u001b[0m \u001b[43m    \u001b[49m\u001b[38;5;28;43mself\u001b[39;49m\u001b[38;5;241;43m.\u001b[39;49m\u001b[43m_nchannels\u001b[49m\u001b[43m \u001b[49m\u001b[38;5;241;43m*\u001b[39;49m\u001b[43m \u001b[49m\u001b[38;5;28;43mself\u001b[39;49m\u001b[38;5;241;43m.\u001b[39;49m\u001b[43m_framerate\u001b[49m\u001b[43m \u001b[49m\u001b[38;5;241;43m*\u001b[39;49m\u001b[43m \u001b[49m\u001b[38;5;28;43mself\u001b[39;49m\u001b[38;5;241;43m.\u001b[39;49m\u001b[43m_sampwidth\u001b[49m\u001b[43m,\u001b[49m\n\u001b[0;32m    483\u001b[0m \u001b[43m    \u001b[49m\u001b[38;5;28;43mself\u001b[39;49m\u001b[38;5;241;43m.\u001b[39;49m\u001b[43m_nchannels\u001b[49m\u001b[43m \u001b[49m\u001b[38;5;241;43m*\u001b[39;49m\u001b[43m \u001b[49m\u001b[38;5;28;43mself\u001b[39;49m\u001b[38;5;241;43m.\u001b[39;49m\u001b[43m_sampwidth\u001b[49m\u001b[43m,\u001b[49m\n\u001b[0;32m    484\u001b[0m \u001b[43m    \u001b[49m\u001b[38;5;28;43mself\u001b[39;49m\u001b[38;5;241;43m.\u001b[39;49m\u001b[43m_sampwidth\u001b[49m\u001b[43m \u001b[49m\u001b[38;5;241;43m*\u001b[39;49m\u001b[43m \u001b[49m\u001b[38;5;241;43m8\u001b[39;49m\u001b[43m,\u001b[49m\u001b[43m \u001b[49m\u001b[38;5;124;43mb\u001b[39;49m\u001b[38;5;124;43m'\u001b[39;49m\u001b[38;5;124;43mdata\u001b[39;49m\u001b[38;5;124;43m'\u001b[39;49m\u001b[43m)\u001b[49m)\n\u001b[0;32m    485\u001b[0m \u001b[38;5;28;01mif\u001b[39;00m \u001b[38;5;28mself\u001b[39m\u001b[38;5;241m.\u001b[39m_form_length_pos \u001b[38;5;129;01mis\u001b[39;00m \u001b[38;5;129;01mnot\u001b[39;00m \u001b[38;5;28;01mNone\u001b[39;00m:\n\u001b[0;32m    486\u001b[0m     \u001b[38;5;28mself\u001b[39m\u001b[38;5;241m.\u001b[39m_data_length_pos \u001b[38;5;241m=\u001b[39m \u001b[38;5;28mself\u001b[39m\u001b[38;5;241m.\u001b[39m_file\u001b[38;5;241m.\u001b[39mtell()\n",
      "\u001b[1;31merror\u001b[0m: ushort format requires 0 <= number <= 0xffff"
     ]
    }
   ],
   "source": [
    "from IPython import display as disp\n",
    "\n",
    "disp.display(disp.Audio(audio_array, rate=sample_rate))\n",
    "disp.display(disp.Audio(pred_audio, rate=sample_rate))"
   ]
  }
 ],
 "metadata": {
  "kernelspec": {
   "display_name": "Python 3",
   "language": "python",
   "name": "python3"
  },
  "language_info": {
   "codemirror_mode": {
    "name": "ipython",
    "version": 3
   },
   "file_extension": ".py",
   "mimetype": "text/x-python",
   "name": "python",
   "nbconvert_exporter": "python",
   "pygments_lexer": "ipython3",
   "version": "3.9.12"
  }
 },
 "nbformat": 4,
 "nbformat_minor": 2
}
